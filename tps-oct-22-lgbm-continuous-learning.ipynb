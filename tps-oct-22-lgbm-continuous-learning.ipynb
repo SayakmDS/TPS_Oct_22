{
 "cells": [
  {
   "cell_type": "markdown",
   "id": "5f401628",
   "metadata": {
    "papermill": {
     "duration": 0.005359,
     "end_time": "2022-10-06T05:39:44.527677",
     "exception": false,
     "start_time": "2022-10-06T05:39:44.522318",
     "status": "completed"
    },
    "tags": []
   },
   "source": [
    "### Importing Modules"
   ]
  },
  {
   "cell_type": "code",
   "execution_count": 1,
   "id": "54be4938",
   "metadata": {
    "execution": {
     "iopub.execute_input": "2022-10-06T05:39:44.538773Z",
     "iopub.status.busy": "2022-10-06T05:39:44.538295Z",
     "iopub.status.idle": "2022-10-06T05:39:46.694797Z",
     "shell.execute_reply": "2022-10-06T05:39:46.693615Z"
    },
    "papermill": {
     "duration": 2.165558,
     "end_time": "2022-10-06T05:39:46.697756",
     "exception": false,
     "start_time": "2022-10-06T05:39:44.532198",
     "status": "completed"
    },
    "tags": []
   },
   "outputs": [
    {
     "data": {
      "text/html": [
       "<style type='text/css'>\n",
       ".datatable table.frame { margin-bottom: 0; }\n",
       ".datatable table.frame thead { border-bottom: none; }\n",
       ".datatable table.frame tr.coltypes td {  color: #FFFFFF;  line-height: 6px;  padding: 0 0.5em;}\n",
       ".datatable .bool    { background: #DDDD99; }\n",
       ".datatable .object  { background: #565656; }\n",
       ".datatable .int     { background: #5D9E5D; }\n",
       ".datatable .float   { background: #4040CC; }\n",
       ".datatable .str     { background: #CC4040; }\n",
       ".datatable .time    { background: #40CC40; }\n",
       ".datatable .row_index {  background: var(--jp-border-color3);  border-right: 1px solid var(--jp-border-color0);  color: var(--jp-ui-font-color3);  font-size: 9px;}\n",
       ".datatable .frame tbody td { text-align: left; }\n",
       ".datatable .frame tr.coltypes .row_index {  background: var(--jp-border-color0);}\n",
       ".datatable th:nth-child(2) { padding-left: 12px; }\n",
       ".datatable .hellipsis {  color: var(--jp-cell-editor-border-color);}\n",
       ".datatable .vellipsis {  background: var(--jp-layout-color0);  color: var(--jp-cell-editor-border-color);}\n",
       ".datatable .na {  color: var(--jp-cell-editor-border-color);  font-size: 80%;}\n",
       ".datatable .sp {  opacity: 0.25;}\n",
       ".datatable .footer { font-size: 9px; }\n",
       ".datatable .frame_dimensions {  background: var(--jp-border-color3);  border-top: 1px solid var(--jp-border-color0);  color: var(--jp-ui-font-color3);  display: inline-block;  opacity: 0.6;  padding: 1px 10px 1px 5px;}\n",
       "</style>\n"
      ],
      "text/plain": [
       "<IPython.core.display.HTML object>"
      ]
     },
     "metadata": {},
     "output_type": "display_data"
    }
   ],
   "source": [
    "import warnings\n",
    "warnings.filterwarnings('ignore')\n",
    "\n",
    "import pandas as pd\n",
    "import numpy as np\n",
    "import matplotlib.pyplot as plt\n",
    "import seaborn as sns\n",
    "%matplotlib inline\n",
    "\n",
    "\n",
    "from sklearn.model_selection import train_test_split\n",
    "# !pip install river\n",
    "# from river.ensemble import AdaptiveRandomForestClassifier\n",
    "\n",
    "from lightgbm import LGBMClassifier\n",
    "\n",
    "from sklearn import preprocessing\n",
    "from sklearn.metrics import log_loss\n",
    "\n",
    "import gc"
   ]
  },
  {
   "cell_type": "markdown",
   "id": "c96dd810",
   "metadata": {
    "papermill": {
     "duration": 0.004349,
     "end_time": "2022-10-06T05:39:46.707013",
     "exception": false,
     "start_time": "2022-10-06T05:39:46.702664",
     "status": "completed"
    },
    "tags": []
   },
   "source": [
    "### Loading Data"
   ]
  },
  {
   "cell_type": "markdown",
   "id": "de3a760c",
   "metadata": {
    "papermill": {
     "duration": 0.004415,
     "end_time": "2022-10-06T05:39:46.716058",
     "exception": false,
     "start_time": "2022-10-06T05:39:46.711643",
     "status": "completed"
    },
    "tags": []
   },
   "source": [
    "In order to load the data, the format has been changed into parquet to reduce size of the data and increase reading time.\n",
    "\n",
    "Ref: [DR. ALVINLEENH](https://www.kaggle.com/datasets/alvinleenh/tps-rocket-league-data-float16-parquet-format)"
   ]
  },
  {
   "cell_type": "code",
   "execution_count": 2,
   "id": "4416d40b",
   "metadata": {
    "execution": {
     "iopub.execute_input": "2022-10-06T05:39:46.727615Z",
     "iopub.status.busy": "2022-10-06T05:39:46.726561Z",
     "iopub.status.idle": "2022-10-06T05:39:51.017623Z",
     "shell.execute_reply": "2022-10-06T05:39:51.016562Z"
    },
    "papermill": {
     "duration": 4.29964,
     "end_time": "2022-10-06T05:39:51.020344",
     "exception": false,
     "start_time": "2022-10-06T05:39:46.720704",
     "status": "completed"
    },
    "tags": []
   },
   "outputs": [
    {
     "data": {
      "text/html": [
       "<div>\n",
       "<style scoped>\n",
       "    .dataframe tbody tr th:only-of-type {\n",
       "        vertical-align: middle;\n",
       "    }\n",
       "\n",
       "    .dataframe tbody tr th {\n",
       "        vertical-align: top;\n",
       "    }\n",
       "\n",
       "    .dataframe thead th {\n",
       "        text-align: right;\n",
       "    }\n",
       "</style>\n",
       "<table border=\"1\" class=\"dataframe\">\n",
       "  <thead>\n",
       "    <tr style=\"text-align: right;\">\n",
       "      <th></th>\n",
       "      <th>game_num</th>\n",
       "      <th>event_id</th>\n",
       "      <th>event_time</th>\n",
       "      <th>ball_pos_x</th>\n",
       "      <th>ball_pos_y</th>\n",
       "      <th>ball_pos_z</th>\n",
       "      <th>ball_vel_x</th>\n",
       "      <th>ball_vel_y</th>\n",
       "      <th>ball_vel_z</th>\n",
       "      <th>p0_pos_x</th>\n",
       "      <th>...</th>\n",
       "      <th>boost0_timer</th>\n",
       "      <th>boost1_timer</th>\n",
       "      <th>boost2_timer</th>\n",
       "      <th>boost3_timer</th>\n",
       "      <th>boost4_timer</th>\n",
       "      <th>boost5_timer</th>\n",
       "      <th>player_scoring_next</th>\n",
       "      <th>team_scoring_next</th>\n",
       "      <th>team_A_scoring_within_10sec</th>\n",
       "      <th>team_B_scoring_within_10sec</th>\n",
       "    </tr>\n",
       "  </thead>\n",
       "  <tbody>\n",
       "    <tr>\n",
       "      <th>0</th>\n",
       "      <td>1</td>\n",
       "      <td>-22</td>\n",
       "      <td>-33.31250</td>\n",
       "      <td>-0.0</td>\n",
       "      <td>0.0</td>\n",
       "      <td>1.854492</td>\n",
       "      <td>-0.0</td>\n",
       "      <td>0.0</td>\n",
       "      <td>0.0</td>\n",
       "      <td>41.81250</td>\n",
       "      <td>...</td>\n",
       "      <td>0.0</td>\n",
       "      <td>0.0</td>\n",
       "      <td>0.0</td>\n",
       "      <td>0.0</td>\n",
       "      <td>0.0</td>\n",
       "      <td>0.0</td>\n",
       "      <td>3</td>\n",
       "      <td>B</td>\n",
       "      <td>0</td>\n",
       "      <td>0</td>\n",
       "    </tr>\n",
       "    <tr>\n",
       "      <th>1</th>\n",
       "      <td>1</td>\n",
       "      <td>-22</td>\n",
       "      <td>-33.21875</td>\n",
       "      <td>-0.0</td>\n",
       "      <td>0.0</td>\n",
       "      <td>1.854492</td>\n",
       "      <td>-0.0</td>\n",
       "      <td>0.0</td>\n",
       "      <td>0.0</td>\n",
       "      <td>42.25000</td>\n",
       "      <td>...</td>\n",
       "      <td>0.0</td>\n",
       "      <td>0.0</td>\n",
       "      <td>0.0</td>\n",
       "      <td>0.0</td>\n",
       "      <td>0.0</td>\n",
       "      <td>0.0</td>\n",
       "      <td>3</td>\n",
       "      <td>B</td>\n",
       "      <td>0</td>\n",
       "      <td>0</td>\n",
       "    </tr>\n",
       "    <tr>\n",
       "      <th>2</th>\n",
       "      <td>1</td>\n",
       "      <td>-22</td>\n",
       "      <td>-33.09375</td>\n",
       "      <td>-0.0</td>\n",
       "      <td>0.0</td>\n",
       "      <td>1.854492</td>\n",
       "      <td>-0.0</td>\n",
       "      <td>0.0</td>\n",
       "      <td>0.0</td>\n",
       "      <td>43.21875</td>\n",
       "      <td>...</td>\n",
       "      <td>0.0</td>\n",
       "      <td>0.0</td>\n",
       "      <td>0.0</td>\n",
       "      <td>0.0</td>\n",
       "      <td>0.0</td>\n",
       "      <td>0.0</td>\n",
       "      <td>3</td>\n",
       "      <td>B</td>\n",
       "      <td>0</td>\n",
       "      <td>0</td>\n",
       "    </tr>\n",
       "    <tr>\n",
       "      <th>3</th>\n",
       "      <td>1</td>\n",
       "      <td>-22</td>\n",
       "      <td>-33.00000</td>\n",
       "      <td>-0.0</td>\n",
       "      <td>0.0</td>\n",
       "      <td>1.854492</td>\n",
       "      <td>-0.0</td>\n",
       "      <td>0.0</td>\n",
       "      <td>0.0</td>\n",
       "      <td>43.90625</td>\n",
       "      <td>...</td>\n",
       "      <td>0.0</td>\n",
       "      <td>0.0</td>\n",
       "      <td>0.0</td>\n",
       "      <td>0.0</td>\n",
       "      <td>0.0</td>\n",
       "      <td>0.0</td>\n",
       "      <td>3</td>\n",
       "      <td>B</td>\n",
       "      <td>0</td>\n",
       "      <td>0</td>\n",
       "    </tr>\n",
       "    <tr>\n",
       "      <th>4</th>\n",
       "      <td>1</td>\n",
       "      <td>-22</td>\n",
       "      <td>-32.87500</td>\n",
       "      <td>-0.0</td>\n",
       "      <td>0.0</td>\n",
       "      <td>1.854492</td>\n",
       "      <td>-0.0</td>\n",
       "      <td>0.0</td>\n",
       "      <td>0.0</td>\n",
       "      <td>44.96875</td>\n",
       "      <td>...</td>\n",
       "      <td>0.0</td>\n",
       "      <td>0.0</td>\n",
       "      <td>0.0</td>\n",
       "      <td>0.0</td>\n",
       "      <td>0.0</td>\n",
       "      <td>0.0</td>\n",
       "      <td>3</td>\n",
       "      <td>B</td>\n",
       "      <td>0</td>\n",
       "      <td>0</td>\n",
       "    </tr>\n",
       "  </tbody>\n",
       "</table>\n",
       "<p>5 rows × 61 columns</p>\n",
       "</div>"
      ],
      "text/plain": [
       "   game_num  event_id  event_time  ball_pos_x  ball_pos_y  ball_pos_z  \\\n",
       "0         1       -22   -33.31250        -0.0         0.0    1.854492   \n",
       "1         1       -22   -33.21875        -0.0         0.0    1.854492   \n",
       "2         1       -22   -33.09375        -0.0         0.0    1.854492   \n",
       "3         1       -22   -33.00000        -0.0         0.0    1.854492   \n",
       "4         1       -22   -32.87500        -0.0         0.0    1.854492   \n",
       "\n",
       "   ball_vel_x  ball_vel_y  ball_vel_z  p0_pos_x  ...  boost0_timer  \\\n",
       "0        -0.0         0.0         0.0  41.81250  ...           0.0   \n",
       "1        -0.0         0.0         0.0  42.25000  ...           0.0   \n",
       "2        -0.0         0.0         0.0  43.21875  ...           0.0   \n",
       "3        -0.0         0.0         0.0  43.90625  ...           0.0   \n",
       "4        -0.0         0.0         0.0  44.96875  ...           0.0   \n",
       "\n",
       "   boost1_timer  boost2_timer  boost3_timer  boost4_timer  boost5_timer  \\\n",
       "0           0.0           0.0           0.0           0.0           0.0   \n",
       "1           0.0           0.0           0.0           0.0           0.0   \n",
       "2           0.0           0.0           0.0           0.0           0.0   \n",
       "3           0.0           0.0           0.0           0.0           0.0   \n",
       "4           0.0           0.0           0.0           0.0           0.0   \n",
       "\n",
       "   player_scoring_next  team_scoring_next  team_A_scoring_within_10sec  \\\n",
       "0                    3                  B                            0   \n",
       "1                    3                  B                            0   \n",
       "2                    3                  B                            0   \n",
       "3                    3                  B                            0   \n",
       "4                    3                  B                            0   \n",
       "\n",
       "   team_B_scoring_within_10sec  \n",
       "0                            0  \n",
       "1                            0  \n",
       "2                            0  \n",
       "3                            0  \n",
       "4                            0  \n",
       "\n",
       "[5 rows x 61 columns]"
      ]
     },
     "execution_count": 2,
     "metadata": {},
     "output_type": "execute_result"
    }
   ],
   "source": [
    "train0_df = pd.read_parquet('/kaggle/input/tps-rocket-league-data-float16-parquet-format/train_0.parquet.gzip')\n",
    "train0_df.head()"
   ]
  },
  {
   "cell_type": "markdown",
   "id": "e28237ab",
   "metadata": {
    "execution": {
     "iopub.execute_input": "2022-10-03T02:59:05.818128Z",
     "iopub.status.busy": "2022-10-03T02:59:05.817073Z",
     "iopub.status.idle": "2022-10-03T02:59:05.823310Z",
     "shell.execute_reply": "2022-10-03T02:59:05.822058Z",
     "shell.execute_reply.started": "2022-10-03T02:59:05.818082Z"
    },
    "papermill": {
     "duration": 0.00456,
     "end_time": "2022-10-06T05:39:51.032033",
     "exception": false,
     "start_time": "2022-10-06T05:39:51.027473",
     "status": "completed"
    },
    "tags": []
   },
   "source": [
    "### Feature Engineering"
   ]
  },
  {
   "cell_type": "markdown",
   "id": "17211c28",
   "metadata": {
    "papermill": {
     "duration": 0.004563,
     "end_time": "2022-10-06T05:39:51.041583",
     "exception": false,
     "start_time": "2022-10-06T05:39:51.037020",
     "status": "completed"
    },
    "tags": []
   },
   "source": [
    "Preprocessing techniques inspired from [here](https://www.kaggle.com/code/alvinleenh/tpsoct22-ctb-baseline-with-parquet/notebook?scriptVersionId=107048249) and [here](https://www.kaggle.com/code/samuelcortinhas/tps-oct-22-rocket-league-eda/notebook), showcasing critical insight into the data at hand."
   ]
  },
  {
   "cell_type": "code",
   "execution_count": 3,
   "id": "7afa2f73",
   "metadata": {
    "execution": {
     "iopub.execute_input": "2022-10-06T05:39:51.053245Z",
     "iopub.status.busy": "2022-10-06T05:39:51.052869Z",
     "iopub.status.idle": "2022-10-06T05:39:51.072431Z",
     "shell.execute_reply": "2022-10-06T05:39:51.069777Z"
    },
    "papermill": {
     "duration": 0.028434,
     "end_time": "2022-10-06T05:39:51.074795",
     "exception": false,
     "start_time": "2022-10-06T05:39:51.046361",
     "status": "completed"
    },
    "tags": []
   },
   "outputs": [],
   "source": [
    "def preprocessing(data):    \n",
    "    \n",
    "    # Goal coordinates\n",
    "    \n",
    "    goal1_coord = (0,-102.5,1.2)\n",
    "    goal2_coord = (0,102.5,1.2)\n",
    "    \n",
    "    \n",
    "    \n",
    "    # for train\n",
    "    if 'game_num' in data.columns:\n",
    "        data = data.drop(columns=['game_num', 'event_id', 'event_time',\n",
    "                                  'player_scoring_next','team_scoring_next'])\n",
    "    # for test\n",
    "    elif 'id' in data.columns:\n",
    "        data = data.drop(columns='id')\n",
    "        \n",
    "    \n",
    "    \n",
    "    # Derived features -   \n",
    "    \n",
    "    # For each player\n",
    "    for i in range(6):\n",
    "        \n",
    "#         # Distance difference between ball and each player across x,y,z axes.\n",
    "#         data[f'p_{i}_x_diff'] = abs(data['ball_pos_x']-data[f'p{i}_pos_x'])\n",
    "#         data[f'p_{i}_y_diff'] = abs(data['ball_pos_y']-data[f'p{i}_pos_y'])\n",
    "#         data[f'p_{i}_z_diff'] = abs(data['ball_pos_z']-data[f'p{i}_pos_z'])\n",
    "        \n",
    "#         # Checking if player hit the ball\n",
    "#         data[f'p_{i}_hit_ball'] = 0\n",
    "#         data.loc[(data[f'p_{i}_x_diff']+data[f'p_{i}_x_diff']+data[f'p_{i}_x_diff']) < 10,f'p_{i}_hit_ball'] = 1\n",
    "        \n",
    "        # Absolute velocity of the players\n",
    "        data[f'p{i}_speed'] = np.sqrt((data[f'p{i}_vel_x']**2)+(data[f'p{i}_vel_y']**2)+(data[f'p{i}_vel_z']**2))\n",
    "        \n",
    "        # Indicating demolished player\n",
    "        data[f'p{i}_demo'] = (data[f'p{i}_pos_x'].isna()).astype(int)\n",
    "        \n",
    "        # Distance from goal1 and goal2\n",
    "            # Euclidean\n",
    "        data[f'p{i}_dist_to_goal1_euclid'] = np.sqrt((data[f'p{i}_pos_x']-goal1_coord[0])**2 + (data[f'p{i}_pos_y']-goal1_coord[1])**2 + (data[f'p{i}_pos_z']-goal1_coord[2])**2)\n",
    "        data[f'p{i}_dist_to_goal2_euclid'] = np.sqrt((data[f'p{i}_pos_x']-goal2_coord[0])**2 + (data[f'p{i}_pos_y']-goal2_coord[1])**2 + (data[f'p{i}_pos_z']-goal2_coord[2])**2)\n",
    "            # Manhattan\n",
    "        data[f'p{i}_dist_to_goal1_manhat'] = np.absolute(data[f'p{i}_pos_x']-goal1_coord[0]) + np.absolute(data[f'p{i}_pos_y']-goal1_coord[1]) + np.absolute(data[f'p{i}_pos_z']-goal1_coord[2])\n",
    "        data[f'p{i}_dist_to_goal2_manhat'] = np.absolute(data[f'p{i}_pos_x']-goal2_coord[0]) + np.absolute(data[f'p{i}_pos_y']-goal2_coord[1]) + np.absolute(data[f'p{i}_pos_z']-goal2_coord[2])     \n",
    "    \n",
    "    \n",
    "    # For ball or team\n",
    "    \n",
    "    # Absolute velocity of ball\n",
    "    data['ball_speed'] = np.sqrt((data['ball_vel_x']**2)+(data['ball_vel_y']**2)+(data['ball_vel_z']**2))\n",
    "    \n",
    "    # Active players in each team\n",
    "    data['active_players_A'] = 3-data['p0_demo']-data['p1_demo']-data['p2_demo']\n",
    "    data['active_players_B'] = 3-data['p3_demo']-data['p4_demo']-data['p5_demo']\n",
    "    \n",
    "    # Distance of ball from goal1 and goal2\n",
    "    \n",
    "        # Euclidean\n",
    "    data['ball_dist_to_goal1_euclid'] = np.sqrt((data['ball_pos_x']-goal1_coord[0])**2 + (data['ball_pos_y']-goal1_coord[1])**2 + (data['ball_pos_z']-goal1_coord[2])**2)\n",
    "    data['ball_dist_to_goal2_euclid'] = np.sqrt((data['ball_pos_x']-goal2_coord[0])**2 + (data['ball_pos_y']-goal2_coord[1])**2 + (data['ball_pos_z']-goal2_coord[2])**2)\n",
    "    \n",
    "        # Manhattan\n",
    "    data['ball_dist_to_goal1_manhat'] = np.absolute(data['ball_pos_x']-goal1_coord[0]) + np.absolute(data['ball_pos_y']-goal1_coord[1]) + np.absolute(data['ball_pos_z']-goal1_coord[2])\n",
    "    data['ball_dist_to_goal2_manhat'] = np.absolute(data['ball_pos_x']-goal2_coord[0]) + np.absolute(data['ball_pos_y']-goal2_coord[1]) + np.absolute(data['ball_pos_z']-goal2_coord[2])\n",
    "    \n",
    "    \n",
    "    return data"
   ]
  },
  {
   "cell_type": "code",
   "execution_count": 4,
   "id": "a411f025",
   "metadata": {
    "_kg_hide-input": true,
    "execution": {
     "iopub.execute_input": "2022-10-06T05:39:51.087599Z",
     "iopub.status.busy": "2022-10-06T05:39:51.086613Z",
     "iopub.status.idle": "2022-10-06T05:39:51.091682Z",
     "shell.execute_reply": "2022-10-06T05:39:51.090586Z"
    },
    "papermill": {
     "duration": 0.014052,
     "end_time": "2022-10-06T05:39:51.094050",
     "exception": false,
     "start_time": "2022-10-06T05:39:51.079998",
     "status": "completed"
    },
    "tags": []
   },
   "outputs": [],
   "source": [
    "# ### Baseline Adaptive RF Classifier\n",
    "\n",
    "# Adaptive RF Classifier is an enesmble approach created by River, a library for online machine learning. With the help of its ability to address incremental model training, all the train datasets can be learnt by our model in a continuous fashion."
   ]
  },
  {
   "cell_type": "code",
   "execution_count": 5,
   "id": "385e45f0",
   "metadata": {
    "execution": {
     "iopub.execute_input": "2022-10-06T05:39:51.106645Z",
     "iopub.status.busy": "2022-10-06T05:39:51.105340Z",
     "iopub.status.idle": "2022-10-06T05:39:53.150644Z",
     "shell.execute_reply": "2022-10-06T05:39:53.149556Z"
    },
    "papermill": {
     "duration": 2.054961,
     "end_time": "2022-10-06T05:39:53.154034",
     "exception": false,
     "start_time": "2022-10-06T05:39:51.099073",
     "status": "completed"
    },
    "tags": []
   },
   "outputs": [],
   "source": [
    "# train test split\n",
    "\n",
    "train = preprocessing(train0_df)\n",
    "del train0_df\n",
    "gc.collect()\n",
    "\n",
    "target_cols = ['team_A_scoring_within_10sec','team_B_scoring_within_10sec']\n",
    "\n",
    "X = train.drop(target_cols, axis=1)\n",
    "y = train[target_cols]"
   ]
  },
  {
   "cell_type": "markdown",
   "id": "9c33ef5e",
   "metadata": {
    "papermill": {
     "duration": 0.006607,
     "end_time": "2022-10-06T05:39:53.166760",
     "exception": false,
     "start_time": "2022-10-06T05:39:53.160153",
     "status": "completed"
    },
    "tags": []
   },
   "source": [
    "### Baseline LightGBM"
   ]
  },
  {
   "cell_type": "markdown",
   "id": "9569a786",
   "metadata": {
    "papermill": {
     "duration": 0.004625,
     "end_time": "2022-10-06T05:39:53.176349",
     "exception": false,
     "start_time": "2022-10-06T05:39:53.171724",
     "status": "completed"
    },
    "tags": []
   },
   "source": [
    "Parameters taken from [CHENSN](https://www.kaggle.com/code/chal1ce/lightgbm-baseline-with-feature-importance/notebook?scriptVersionId=107069949)'s work, which is clear and precise."
   ]
  },
  {
   "cell_type": "code",
   "execution_count": 6,
   "id": "b8744dfd",
   "metadata": {
    "execution": {
     "iopub.execute_input": "2022-10-06T05:39:53.188440Z",
     "iopub.status.busy": "2022-10-06T05:39:53.187487Z",
     "iopub.status.idle": "2022-10-06T05:39:53.194118Z",
     "shell.execute_reply": "2022-10-06T05:39:53.193293Z"
    },
    "papermill": {
     "duration": 0.015298,
     "end_time": "2022-10-06T05:39:53.196540",
     "exception": false,
     "start_time": "2022-10-06T05:39:53.181242",
     "status": "completed"
    },
    "tags": []
   },
   "outputs": [],
   "source": [
    "# Respective models for each team\n",
    "\n",
    "# modelA = AdaptiveRandomForestClassifier(n_models = 500, max_features = None)\n",
    "# modelB = AdaptiveRandomForestClassifier(n_models = 500, max_features = None)\n",
    "\n",
    "params = {\n",
    "    'objective': 'binary',\n",
    "    'seed': 42,\n",
    "    'num_leaves': 128,\n",
    "    'n_estimators': 250,\n",
    "    'max_depth': 10,\n",
    "    'learning_rate': 0.1,\n",
    "    #'feature_fraction': 0.75,\n",
    "    'subsample': 0.7,\n",
    "    'subsample_freq': 8,\n",
    "    'n_jobs': -1,\n",
    "    'reg_alpha': 1,\n",
    "    'reg_lambda': 2,\n",
    "    'min_child_samples': 100,\n",
    "}\n",
    "\n",
    "modelA = LGBMClassifier(**params)\n",
    "modelB = LGBMClassifier(**params)\n",
    "\n",
    "base_model = [modelA, modelB]"
   ]
  },
  {
   "cell_type": "code",
   "execution_count": 7,
   "id": "1f15fd54",
   "metadata": {
    "execution": {
     "iopub.execute_input": "2022-10-06T05:39:53.208991Z",
     "iopub.status.busy": "2022-10-06T05:39:53.208496Z",
     "iopub.status.idle": "2022-10-06T05:45:28.949066Z",
     "shell.execute_reply": "2022-10-06T05:45:28.947899Z"
    },
    "papermill": {
     "duration": 335.755201,
     "end_time": "2022-10-06T05:45:28.956963",
     "exception": false,
     "start_time": "2022-10-06T05:39:53.201762",
     "status": "completed"
    },
    "tags": []
   },
   "outputs": [
    {
     "name": "stdout",
     "output_type": "stream",
     "text": [
      "\n",
      "Logloss for team_A_scoring_within_10sec = 0.12686100348510285\n",
      "\n",
      "\n",
      "Logloss for team_B_scoring_within_10sec = 0.12064725737337144\n",
      "\n"
     ]
    }
   ],
   "source": [
    "# Training initial model\n",
    "\n",
    "def initial_model(X,y, model):\n",
    "    # train test split\n",
    "    X_train, X_val, y_train, y_val = train_test_split(X,y,test_size=0.15, random_state=56)\n",
    "    pred_train = y_val[target_cols].copy()\n",
    "    \n",
    "    # training and evaluation\n",
    "    for i, feature in enumerate(target_cols):\n",
    "        model[i].fit(X_train,y_train[feature],verbose=True)\n",
    "        pred_train.loc[:,feature] = model[i].predict_proba(X_val)[:,1]\n",
    "        loss = log_loss(y_val[feature],pred_train[feature])\n",
    "        print(f\"\\nLogloss for {feature} = {loss}\\n\")\n",
    "        \n",
    "initial_model(X,y,base_model)"
   ]
  },
  {
   "cell_type": "code",
   "execution_count": 8,
   "id": "2356aca9",
   "metadata": {
    "execution": {
     "iopub.execute_input": "2022-10-06T05:45:28.969935Z",
     "iopub.status.busy": "2022-10-06T05:45:28.969533Z",
     "iopub.status.idle": "2022-10-06T07:15:25.139845Z",
     "shell.execute_reply": "2022-10-06T07:15:25.138570Z"
    },
    "papermill": {
     "duration": 5396.189101,
     "end_time": "2022-10-06T07:15:25.152044",
     "exception": false,
     "start_time": "2022-10-06T05:45:28.962943",
     "status": "completed"
    },
    "tags": []
   },
   "outputs": [
    {
     "name": "stdout",
     "output_type": "stream",
     "text": [
      "\n",
      "\n",
      "Dataset: train_1\n",
      "\n",
      "\n",
      "Logloss for team_A_scoring_within_10sec = 0.1232967881214441\n",
      "\n",
      "\n",
      "Logloss for team_B_scoring_within_10sec = 0.11269403668900066\n",
      "\n",
      "\n",
      "\n",
      "Dataset: train_2\n",
      "\n",
      "\n",
      "Logloss for team_A_scoring_within_10sec = 0.11937510031336045\n",
      "\n",
      "\n",
      "Logloss for team_B_scoring_within_10sec = 0.12041581740239296\n",
      "\n",
      "\n",
      "\n",
      "Dataset: train_3\n",
      "\n",
      "\n",
      "Logloss for team_A_scoring_within_10sec = 0.129254997004758\n",
      "\n",
      "\n",
      "Logloss for team_B_scoring_within_10sec = 0.1260361244978028\n",
      "\n",
      "\n",
      "\n",
      "Dataset: train_4\n",
      "\n",
      "\n",
      "Logloss for team_A_scoring_within_10sec = 0.12765727454648884\n",
      "\n",
      "\n",
      "Logloss for team_B_scoring_within_10sec = 0.12413902598384331\n",
      "\n",
      "\n",
      "\n",
      "Dataset: train_5\n",
      "\n",
      "\n",
      "Logloss for team_A_scoring_within_10sec = 0.13016049379142589\n",
      "\n",
      "\n",
      "Logloss for team_B_scoring_within_10sec = 0.1321816147689668\n",
      "\n",
      "\n",
      "\n",
      "Dataset: train_6\n",
      "\n",
      "\n",
      "Logloss for team_A_scoring_within_10sec = 0.13937459137890332\n",
      "\n",
      "\n",
      "Logloss for team_B_scoring_within_10sec = 0.13526083963496138\n",
      "\n",
      "\n",
      "\n",
      "Dataset: train_7\n",
      "\n",
      "\n",
      "Logloss for team_A_scoring_within_10sec = 0.14126064166710497\n",
      "\n",
      "\n",
      "Logloss for team_B_scoring_within_10sec = 0.13064385189836844\n",
      "\n",
      "\n",
      "\n",
      "Dataset: train_8\n",
      "\n",
      "\n",
      "Logloss for team_A_scoring_within_10sec = 0.14072087754657642\n",
      "\n",
      "\n",
      "Logloss for team_B_scoring_within_10sec = 0.13332850884857667\n",
      "\n",
      "\n",
      "\n",
      "Dataset: train_9\n",
      "\n",
      "\n",
      "Logloss for team_A_scoring_within_10sec = 0.13972746130719077\n",
      "\n",
      "\n",
      "Logloss for team_B_scoring_within_10sec = 0.14496919640671443\n",
      "\n"
     ]
    }
   ],
   "source": [
    "# Training online model\n",
    "\n",
    "def incremental_model(X,y,base_model):\n",
    "    # train test split\n",
    "        X_train, X_val, y_train, y_val = train_test_split(X,y,test_size=0.15, random_state=56)\n",
    "        pred_train = y_val[target_cols].copy()\n",
    "        \n",
    "        # training and evaluation\n",
    "        for i, feature in enumerate(target_cols):\n",
    "            base_model[i].fit(X_train, y_train[feature], init_model = base_model[i], verbose=True)\n",
    "            pred_train.loc[:,feature] = base_model[i].predict_proba(X_val)[:,1]\n",
    "            loss = log_loss(y_val[feature],pred_train[feature])\n",
    "            print(f\"\\nLogloss for {feature} = {loss}\\n\")\n",
    "\n",
    "\n",
    "for i in range(1,10):\n",
    "    train_df = pd.read_parquet(f'/kaggle/input/tps-rocket-league-data-float16-parquet-format/train_{i}.parquet.gzip')\n",
    "    train = preprocessing(train_df)\n",
    "    del train_df\n",
    "    gc.collect()\n",
    "    \n",
    "    X = train.drop(target_cols, axis=1)\n",
    "    y = train[target_cols]\n",
    "    print(f'\\n\\nDataset: train_{i}\\n')\n",
    "    incremental_model(X,y,base_model)"
   ]
  },
  {
   "cell_type": "markdown",
   "id": "0ee104b9",
   "metadata": {
    "papermill": {
     "duration": 0.006566,
     "end_time": "2022-10-06T07:15:25.166451",
     "exception": false,
     "start_time": "2022-10-06T07:15:25.159885",
     "status": "completed"
    },
    "tags": []
   },
   "source": [
    "### Prediction on Test"
   ]
  },
  {
   "cell_type": "code",
   "execution_count": 9,
   "id": "7c9588f7",
   "metadata": {
    "execution": {
     "iopub.execute_input": "2022-10-06T07:15:25.181986Z",
     "iopub.status.busy": "2022-10-06T07:15:25.181495Z",
     "iopub.status.idle": "2022-10-06T07:18:38.841597Z",
     "shell.execute_reply": "2022-10-06T07:18:38.840452Z"
    },
    "papermill": {
     "duration": 193.678518,
     "end_time": "2022-10-06T07:18:38.851603",
     "exception": false,
     "start_time": "2022-10-06T07:15:25.173085",
     "status": "completed"
    },
    "tags": []
   },
   "outputs": [
    {
     "data": {
      "text/html": [
       "<div>\n",
       "<style scoped>\n",
       "    .dataframe tbody tr th:only-of-type {\n",
       "        vertical-align: middle;\n",
       "    }\n",
       "\n",
       "    .dataframe tbody tr th {\n",
       "        vertical-align: top;\n",
       "    }\n",
       "\n",
       "    .dataframe thead th {\n",
       "        text-align: right;\n",
       "    }\n",
       "</style>\n",
       "<table border=\"1\" class=\"dataframe\">\n",
       "  <thead>\n",
       "    <tr style=\"text-align: right;\">\n",
       "      <th></th>\n",
       "      <th>team_A_scoring_within_10sec</th>\n",
       "      <th>team_B_scoring_within_10sec</th>\n",
       "    </tr>\n",
       "  </thead>\n",
       "  <tbody>\n",
       "    <tr>\n",
       "      <th>0</th>\n",
       "      <td>0.001020</td>\n",
       "      <td>0.002494</td>\n",
       "    </tr>\n",
       "    <tr>\n",
       "      <th>1</th>\n",
       "      <td>0.002117</td>\n",
       "      <td>0.016953</td>\n",
       "    </tr>\n",
       "    <tr>\n",
       "      <th>2</th>\n",
       "      <td>0.000239</td>\n",
       "      <td>0.015794</td>\n",
       "    </tr>\n",
       "    <tr>\n",
       "      <th>3</th>\n",
       "      <td>0.008703</td>\n",
       "      <td>0.005521</td>\n",
       "    </tr>\n",
       "    <tr>\n",
       "      <th>4</th>\n",
       "      <td>0.003372</td>\n",
       "      <td>0.031378</td>\n",
       "    </tr>\n",
       "  </tbody>\n",
       "</table>\n",
       "</div>"
      ],
      "text/plain": [
       "   team_A_scoring_within_10sec  team_B_scoring_within_10sec\n",
       "0                     0.001020                     0.002494\n",
       "1                     0.002117                     0.016953\n",
       "2                     0.000239                     0.015794\n",
       "3                     0.008703                     0.005521\n",
       "4                     0.003372                     0.031378"
      ]
     },
     "execution_count": 9,
     "metadata": {},
     "output_type": "execute_result"
    }
   ],
   "source": [
    "# loading test data \n",
    "test_df = pd.read_parquet('/kaggle/input/tps-rocket-league-data-float16-parquet-format/test.parquet.gzip')\n",
    "\n",
    "# loading sample submission file to make use of labels\n",
    "submission_df = pd.read_csv('/kaggle/input/tabular-playground-series-oct-2022/sample_submission.csv')\n",
    "\n",
    "# feature engineering\n",
    "test = preprocessing(test_df)\n",
    "\n",
    "# Prediction\n",
    "pred_test = submission_df[target_cols].copy()\n",
    "\n",
    "for i, feature in enumerate(target_cols):\n",
    "    pred_test.loc[:,feature] = base_model[i].predict_proba(test)[:,1]\n",
    "\n",
    "pred_test.head(5)"
   ]
  },
  {
   "cell_type": "markdown",
   "id": "68f7829e",
   "metadata": {
    "papermill": {
     "duration": 0.006616,
     "end_time": "2022-10-06T07:18:38.865244",
     "exception": false,
     "start_time": "2022-10-06T07:18:38.858628",
     "status": "completed"
    },
    "tags": []
   },
   "source": [
    "### Submission"
   ]
  },
  {
   "cell_type": "code",
   "execution_count": 10,
   "id": "a3499804",
   "metadata": {
    "execution": {
     "iopub.execute_input": "2022-10-06T07:18:38.881201Z",
     "iopub.status.busy": "2022-10-06T07:18:38.880455Z",
     "iopub.status.idle": "2022-10-06T07:18:41.687333Z",
     "shell.execute_reply": "2022-10-06T07:18:41.686043Z"
    },
    "papermill": {
     "duration": 2.817684,
     "end_time": "2022-10-06T07:18:41.689874",
     "exception": false,
     "start_time": "2022-10-06T07:18:38.872190",
     "status": "completed"
    },
    "tags": []
   },
   "outputs": [
    {
     "data": {
      "text/html": [
       "<div>\n",
       "<style scoped>\n",
       "    .dataframe tbody tr th:only-of-type {\n",
       "        vertical-align: middle;\n",
       "    }\n",
       "\n",
       "    .dataframe tbody tr th {\n",
       "        vertical-align: top;\n",
       "    }\n",
       "\n",
       "    .dataframe thead th {\n",
       "        text-align: right;\n",
       "    }\n",
       "</style>\n",
       "<table border=\"1\" class=\"dataframe\">\n",
       "  <thead>\n",
       "    <tr style=\"text-align: right;\">\n",
       "      <th></th>\n",
       "      <th>id</th>\n",
       "      <th>team_A_scoring_within_10sec</th>\n",
       "      <th>team_B_scoring_within_10sec</th>\n",
       "    </tr>\n",
       "  </thead>\n",
       "  <tbody>\n",
       "    <tr>\n",
       "      <th>0</th>\n",
       "      <td>0</td>\n",
       "      <td>0.001020</td>\n",
       "      <td>0.002494</td>\n",
       "    </tr>\n",
       "    <tr>\n",
       "      <th>1</th>\n",
       "      <td>1</td>\n",
       "      <td>0.002117</td>\n",
       "      <td>0.016953</td>\n",
       "    </tr>\n",
       "    <tr>\n",
       "      <th>2</th>\n",
       "      <td>2</td>\n",
       "      <td>0.000239</td>\n",
       "      <td>0.015794</td>\n",
       "    </tr>\n",
       "    <tr>\n",
       "      <th>3</th>\n",
       "      <td>3</td>\n",
       "      <td>0.008703</td>\n",
       "      <td>0.005521</td>\n",
       "    </tr>\n",
       "    <tr>\n",
       "      <th>4</th>\n",
       "      <td>4</td>\n",
       "      <td>0.003372</td>\n",
       "      <td>0.031378</td>\n",
       "    </tr>\n",
       "  </tbody>\n",
       "</table>\n",
       "</div>"
      ],
      "text/plain": [
       "   id  team_A_scoring_within_10sec  team_B_scoring_within_10sec\n",
       "0   0                     0.001020                     0.002494\n",
       "1   1                     0.002117                     0.016953\n",
       "2   2                     0.000239                     0.015794\n",
       "3   3                     0.008703                     0.005521\n",
       "4   4                     0.003372                     0.031378"
      ]
     },
     "execution_count": 10,
     "metadata": {},
     "output_type": "execute_result"
    }
   ],
   "source": [
    "submission_csv = pd.DataFrame({'id': submission_df.id, \n",
    "                       'team_A_scoring_within_10sec': pred_test['team_A_scoring_within_10sec'],\n",
    "                       'team_B_scoring_within_10sec': pred_test['team_B_scoring_within_10sec']})\n",
    "submission_csv.to_csv('submission.csv', index=False)\n",
    "submission_csv.head()"
   ]
  }
 ],
 "metadata": {
  "kernelspec": {
   "display_name": "Python 3",
   "language": "python",
   "name": "python3"
  },
  "language_info": {
   "codemirror_mode": {
    "name": "ipython",
    "version": 3
   },
   "file_extension": ".py",
   "mimetype": "text/x-python",
   "name": "python",
   "nbconvert_exporter": "python",
   "pygments_lexer": "ipython3",
   "version": "3.7.12"
  },
  "papermill": {
   "default_parameters": {},
   "duration": 5948.441538,
   "end_time": "2022-10-06T07:18:42.732946",
   "environment_variables": {},
   "exception": null,
   "input_path": "__notebook__.ipynb",
   "output_path": "__notebook__.ipynb",
   "parameters": {},
   "start_time": "2022-10-06T05:39:34.291408",
   "version": "2.3.4"
  }
 },
 "nbformat": 4,
 "nbformat_minor": 5
}
